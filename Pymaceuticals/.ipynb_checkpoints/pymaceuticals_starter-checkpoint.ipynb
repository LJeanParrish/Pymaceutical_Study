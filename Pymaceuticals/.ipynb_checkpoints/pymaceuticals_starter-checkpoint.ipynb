{
 "cells": [
  {
   "cell_type": "markdown",
   "metadata": {},
   "source": [
    "## Observations and Insights "
   ]
  },
  {
   "cell_type": "markdown",
   "metadata": {},
   "source": []
  },
  {
   "cell_type": "code",
   "execution_count": 2,
   "metadata": {},
   "outputs": [
    {
     "data": {
      "text/html": [
       "<div>\n",
       "<style scoped>\n",
       "    .dataframe tbody tr th:only-of-type {\n",
       "        vertical-align: middle;\n",
       "    }\n",
       "\n",
       "    .dataframe tbody tr th {\n",
       "        vertical-align: top;\n",
       "    }\n",
       "\n",
       "    .dataframe thead th {\n",
       "        text-align: right;\n",
       "    }\n",
       "</style>\n",
       "<table border=\"1\" class=\"dataframe\">\n",
       "  <thead>\n",
       "    <tr style=\"text-align: right;\">\n",
       "      <th></th>\n",
       "      <th>Mouse ID</th>\n",
       "      <th>Drug Regimen</th>\n",
       "      <th>Sex</th>\n",
       "      <th>Age_months</th>\n",
       "      <th>Weight (g)</th>\n",
       "      <th>Timepoint</th>\n",
       "      <th>Tumor Volume (mm3)</th>\n",
       "      <th>Metastatic Sites</th>\n",
       "    </tr>\n",
       "  </thead>\n",
       "  <tbody>\n",
       "    <tr>\n",
       "      <th>0</th>\n",
       "      <td>k403</td>\n",
       "      <td>Ramicane</td>\n",
       "      <td>Male</td>\n",
       "      <td>21</td>\n",
       "      <td>16</td>\n",
       "      <td>0</td>\n",
       "      <td>45.000000</td>\n",
       "      <td>0</td>\n",
       "    </tr>\n",
       "    <tr>\n",
       "      <th>1</th>\n",
       "      <td>k403</td>\n",
       "      <td>Ramicane</td>\n",
       "      <td>Male</td>\n",
       "      <td>21</td>\n",
       "      <td>16</td>\n",
       "      <td>5</td>\n",
       "      <td>38.825898</td>\n",
       "      <td>0</td>\n",
       "    </tr>\n",
       "    <tr>\n",
       "      <th>2</th>\n",
       "      <td>k403</td>\n",
       "      <td>Ramicane</td>\n",
       "      <td>Male</td>\n",
       "      <td>21</td>\n",
       "      <td>16</td>\n",
       "      <td>10</td>\n",
       "      <td>35.014271</td>\n",
       "      <td>1</td>\n",
       "    </tr>\n",
       "    <tr>\n",
       "      <th>3</th>\n",
       "      <td>k403</td>\n",
       "      <td>Ramicane</td>\n",
       "      <td>Male</td>\n",
       "      <td>21</td>\n",
       "      <td>16</td>\n",
       "      <td>15</td>\n",
       "      <td>34.223992</td>\n",
       "      <td>1</td>\n",
       "    </tr>\n",
       "    <tr>\n",
       "      <th>4</th>\n",
       "      <td>k403</td>\n",
       "      <td>Ramicane</td>\n",
       "      <td>Male</td>\n",
       "      <td>21</td>\n",
       "      <td>16</td>\n",
       "      <td>20</td>\n",
       "      <td>32.997729</td>\n",
       "      <td>1</td>\n",
       "    </tr>\n",
       "  </tbody>\n",
       "</table>\n",
       "</div>"
      ],
      "text/plain": [
       "  Mouse ID Drug Regimen   Sex  Age_months  Weight (g)  Timepoint  \\\n",
       "0     k403     Ramicane  Male          21          16          0   \n",
       "1     k403     Ramicane  Male          21          16          5   \n",
       "2     k403     Ramicane  Male          21          16         10   \n",
       "3     k403     Ramicane  Male          21          16         15   \n",
       "4     k403     Ramicane  Male          21          16         20   \n",
       "\n",
       "   Tumor Volume (mm3)  Metastatic Sites  \n",
       "0           45.000000                 0  \n",
       "1           38.825898                 0  \n",
       "2           35.014271                 1  \n",
       "3           34.223992                 1  \n",
       "4           32.997729                 1  "
      ]
     },
     "execution_count": 2,
     "metadata": {},
     "output_type": "execute_result"
    }
   ],
   "source": [
    "# Dependencies and Setup\n",
    "import matplotlib.pyplot as plt\n",
    "import pandas as pd\n",
    "import scipy.stats as st\n",
    "import numpy as np\n",
    "\n",
    "# Study data files\n",
    "mouse_metadata_path = \"data/Mouse_metadata.csv\"\n",
    "study_results_path = \"data/Study_results.csv\"\n",
    "\n",
    "# Read the mouse data and the study results\n",
    "mouse_metadata = pd.read_csv(mouse_metadata_path)\n",
    "study_results = pd.read_csv(study_results_path)\n",
    "\n",
    "# Combine the data into a single dataset\n",
    "combined_study_df = pd.merge(mouse_metadata, study_results, how='outer', on='Mouse ID')\n",
    "\n",
    "# Display the data table for preview\n",
    "combined_study_df.head()\n"
   ]
  },
  {
   "cell_type": "code",
   "execution_count": 3,
   "metadata": {},
   "outputs": [
    {
     "data": {
      "text/plain": [
       "249"
      ]
     },
     "execution_count": 3,
     "metadata": {},
     "output_type": "execute_result"
    }
   ],
   "source": [
    "# Checking the number of mice.\n",
    "combined_study_df['Mouse ID'].nunique()"
   ]
  },
  {
   "cell_type": "code",
   "execution_count": 4,
   "metadata": {},
   "outputs": [
    {
     "data": {
      "text/plain": [
       "Mouse ID\n",
       "a203    10\n",
       "a251    10\n",
       "a262    10\n",
       "a275    10\n",
       "a366     7\n",
       "        ..\n",
       "z435     3\n",
       "z578    10\n",
       "z581    10\n",
       "z795    10\n",
       "z969    10\n",
       "Name: Timepoint, Length: 249, dtype: int64"
      ]
     },
     "execution_count": 4,
     "metadata": {},
     "output_type": "execute_result"
    }
   ],
   "source": [
    "######NOT CONFIDENT IN CODING HERE#####\n",
    "# Getting the duplicate mice by ID number that shows up for Mouse ID and Timepoint. .groupby('')\n",
    "mouse_df = combined_study_df.groupby(['Mouse ID'])\n",
    "mouse_df['Timepoint'].nunique()\n"
   ]
  },
  {
   "cell_type": "code",
   "execution_count": 5,
   "metadata": {},
   "outputs": [
    {
     "data": {
      "text/html": [
       "<div>\n",
       "<style scoped>\n",
       "    .dataframe tbody tr th:only-of-type {\n",
       "        vertical-align: middle;\n",
       "    }\n",
       "\n",
       "    .dataframe tbody tr th {\n",
       "        vertical-align: top;\n",
       "    }\n",
       "\n",
       "    .dataframe thead th {\n",
       "        text-align: right;\n",
       "    }\n",
       "</style>\n",
       "<table border=\"1\" class=\"dataframe\">\n",
       "  <thead>\n",
       "    <tr style=\"text-align: right;\">\n",
       "      <th></th>\n",
       "      <th>Age_months</th>\n",
       "      <th>Weight (g)</th>\n",
       "      <th>Timepoint</th>\n",
       "      <th>Tumor Volume (mm3)</th>\n",
       "      <th>Metastatic Sites</th>\n",
       "    </tr>\n",
       "  </thead>\n",
       "  <tbody>\n",
       "    <tr>\n",
       "      <th>count</th>\n",
       "      <td>10.0</td>\n",
       "      <td>10.0</td>\n",
       "      <td>10.00000</td>\n",
       "      <td>10.000000</td>\n",
       "      <td>10.000000</td>\n",
       "    </tr>\n",
       "    <tr>\n",
       "      <th>mean</th>\n",
       "      <td>21.0</td>\n",
       "      <td>26.0</td>\n",
       "      <td>10.00000</td>\n",
       "      <td>50.273452</td>\n",
       "      <td>0.300000</td>\n",
       "    </tr>\n",
       "    <tr>\n",
       "      <th>std</th>\n",
       "      <td>0.0</td>\n",
       "      <td>0.0</td>\n",
       "      <td>7.45356</td>\n",
       "      <td>3.702155</td>\n",
       "      <td>0.483046</td>\n",
       "    </tr>\n",
       "    <tr>\n",
       "      <th>min</th>\n",
       "      <td>21.0</td>\n",
       "      <td>26.0</td>\n",
       "      <td>0.00000</td>\n",
       "      <td>45.000000</td>\n",
       "      <td>0.000000</td>\n",
       "    </tr>\n",
       "    <tr>\n",
       "      <th>25%</th>\n",
       "      <td>21.0</td>\n",
       "      <td>26.0</td>\n",
       "      <td>5.00000</td>\n",
       "      <td>47.874494</td>\n",
       "      <td>0.000000</td>\n",
       "    </tr>\n",
       "    <tr>\n",
       "      <th>50%</th>\n",
       "      <td>21.0</td>\n",
       "      <td>26.0</td>\n",
       "      <td>10.00000</td>\n",
       "      <td>50.603190</td>\n",
       "      <td>0.000000</td>\n",
       "    </tr>\n",
       "    <tr>\n",
       "      <th>75%</th>\n",
       "      <td>21.0</td>\n",
       "      <td>26.0</td>\n",
       "      <td>15.00000</td>\n",
       "      <td>53.017804</td>\n",
       "      <td>0.750000</td>\n",
       "    </tr>\n",
       "    <tr>\n",
       "      <th>max</th>\n",
       "      <td>21.0</td>\n",
       "      <td>26.0</td>\n",
       "      <td>20.00000</td>\n",
       "      <td>55.326122</td>\n",
       "      <td>1.000000</td>\n",
       "    </tr>\n",
       "  </tbody>\n",
       "</table>\n",
       "</div>"
      ],
      "text/plain": [
       "       Age_months  Weight (g)  Timepoint  Tumor Volume (mm3)  Metastatic Sites\n",
       "count        10.0        10.0   10.00000           10.000000         10.000000\n",
       "mean         21.0        26.0   10.00000           50.273452          0.300000\n",
       "std           0.0         0.0    7.45356            3.702155          0.483046\n",
       "min          21.0        26.0    0.00000           45.000000          0.000000\n",
       "25%          21.0        26.0    5.00000           47.874494          0.000000\n",
       "50%          21.0        26.0   10.00000           50.603190          0.000000\n",
       "75%          21.0        26.0   15.00000           53.017804          0.750000\n",
       "max          21.0        26.0   20.00000           55.326122          1.000000"
      ]
     },
     "execution_count": 5,
     "metadata": {},
     "output_type": "execute_result"
    }
   ],
   "source": [
    "######NOT CONFIDENT IN CODING HERE#####\n",
    "# Optional: Get all the data for the duplicate mouse ID. \n",
    "dup_mouse_df = combined_study_df[combined_study_df.duplicated(subset=['Mouse ID','Timepoint'], keep=False)]\n",
    "dup_mouse_df.describe()\n"
   ]
  },
  {
   "cell_type": "code",
   "execution_count": 6,
   "metadata": {},
   "outputs": [
    {
     "data": {
      "text/html": [
       "<div>\n",
       "<style scoped>\n",
       "    .dataframe tbody tr th:only-of-type {\n",
       "        vertical-align: middle;\n",
       "    }\n",
       "\n",
       "    .dataframe tbody tr th {\n",
       "        vertical-align: top;\n",
       "    }\n",
       "\n",
       "    .dataframe thead th {\n",
       "        text-align: right;\n",
       "    }\n",
       "</style>\n",
       "<table border=\"1\" class=\"dataframe\">\n",
       "  <thead>\n",
       "    <tr style=\"text-align: right;\">\n",
       "      <th></th>\n",
       "      <th>Mouse ID</th>\n",
       "      <th>Drug Regimen</th>\n",
       "      <th>Sex</th>\n",
       "      <th>Age_months</th>\n",
       "      <th>Weight (g)</th>\n",
       "      <th>Timepoint</th>\n",
       "      <th>Tumor Volume (mm3)</th>\n",
       "      <th>Metastatic Sites</th>\n",
       "    </tr>\n",
       "  </thead>\n",
       "  <tbody>\n",
       "    <tr>\n",
       "      <th>0</th>\n",
       "      <td>k403</td>\n",
       "      <td>Ramicane</td>\n",
       "      <td>Male</td>\n",
       "      <td>21</td>\n",
       "      <td>16</td>\n",
       "      <td>0</td>\n",
       "      <td>45.000000</td>\n",
       "      <td>0</td>\n",
       "    </tr>\n",
       "    <tr>\n",
       "      <th>1</th>\n",
       "      <td>k403</td>\n",
       "      <td>Ramicane</td>\n",
       "      <td>Male</td>\n",
       "      <td>21</td>\n",
       "      <td>16</td>\n",
       "      <td>5</td>\n",
       "      <td>38.825898</td>\n",
       "      <td>0</td>\n",
       "    </tr>\n",
       "    <tr>\n",
       "      <th>2</th>\n",
       "      <td>k403</td>\n",
       "      <td>Ramicane</td>\n",
       "      <td>Male</td>\n",
       "      <td>21</td>\n",
       "      <td>16</td>\n",
       "      <td>10</td>\n",
       "      <td>35.014271</td>\n",
       "      <td>1</td>\n",
       "    </tr>\n",
       "    <tr>\n",
       "      <th>3</th>\n",
       "      <td>k403</td>\n",
       "      <td>Ramicane</td>\n",
       "      <td>Male</td>\n",
       "      <td>21</td>\n",
       "      <td>16</td>\n",
       "      <td>15</td>\n",
       "      <td>34.223992</td>\n",
       "      <td>1</td>\n",
       "    </tr>\n",
       "    <tr>\n",
       "      <th>4</th>\n",
       "      <td>k403</td>\n",
       "      <td>Ramicane</td>\n",
       "      <td>Male</td>\n",
       "      <td>21</td>\n",
       "      <td>16</td>\n",
       "      <td>20</td>\n",
       "      <td>32.997729</td>\n",
       "      <td>1</td>\n",
       "    </tr>\n",
       "  </tbody>\n",
       "</table>\n",
       "</div>"
      ],
      "text/plain": [
       "  Mouse ID Drug Regimen   Sex  Age_months  Weight (g)  Timepoint  \\\n",
       "0     k403     Ramicane  Male          21          16          0   \n",
       "1     k403     Ramicane  Male          21          16          5   \n",
       "2     k403     Ramicane  Male          21          16         10   \n",
       "3     k403     Ramicane  Male          21          16         15   \n",
       "4     k403     Ramicane  Male          21          16         20   \n",
       "\n",
       "   Tumor Volume (mm3)  Metastatic Sites  \n",
       "0           45.000000                 0  \n",
       "1           38.825898                 0  \n",
       "2           35.014271                 1  \n",
       "3           34.223992                 1  \n",
       "4           32.997729                 1  "
      ]
     },
     "execution_count": 6,
     "metadata": {},
     "output_type": "execute_result"
    }
   ],
   "source": [
    "######NOT CONFIDENT IN CODING HERE#####\n",
    "# Create a clean DataFrame by dropping the duplicate mouse by its ID.\n",
    "unique_mouse_df = combined_study_df.drop_duplicates(subset =[\"Mouse ID\", 'Timepoint'], keep ='first', inplace =False)\n",
    "unique_mouse_df.head()\n"
   ]
  },
  {
   "cell_type": "code",
   "execution_count": 7,
   "metadata": {},
   "outputs": [
    {
     "data": {
      "text/plain": [
       "249"
      ]
     },
     "execution_count": 7,
     "metadata": {},
     "output_type": "execute_result"
    }
   ],
   "source": [
    "# Checking the number of mice in the clean DataFrame.\n",
    "unique_mouse_df['Mouse ID'].nunique()\n"
   ]
  },
  {
   "cell_type": "markdown",
   "metadata": {},
   "source": [
    "## Summary Statistics"
   ]
  },
  {
   "cell_type": "code",
   "execution_count": 8,
   "metadata": {},
   "outputs": [],
   "source": [
    "# Generate a summary statistics table of mean, median, variance, standard deviation,and SEM of the tumor volume for each regimen\n",
    "# Use groupby and summary statistical methods to calculate the following properties of each drug regimen: \n",
    "# mean, median, variance, standard deviation, and SEM of the tumor volume. \n",
    "# Assemble the resulting series into a single summary dataframe.\n",
    "\n",
    "tumor_vol_df = unique_mouse_df.groupby([\"Drug Regimen\"])\n",
    "\n",
    "tumor_mean = tumor_vol_df[\"Tumor Volume (mm3)\"].mean()\n",
    "tumor_median = tumor_vol_df[\"Tumor Volume (mm3)\"].median()\n",
    "tumor_var = tumor_vol_df[\"Tumor Volume (mm3)\"].var()\n",
    "tumor_stdev = tumor_vol_df[\"Tumor Volume (mm3)\"].std()\n",
    "tumor_SEM = tumor_vol_df[\"Tumor Volume (mm3)\"].sem()"
   ]
  },
  {
   "cell_type": "code",
   "execution_count": 9,
   "metadata": {},
   "outputs": [
    {
     "data": {
      "text/html": [
       "<div>\n",
       "<style scoped>\n",
       "    .dataframe tbody tr th:only-of-type {\n",
       "        vertical-align: middle;\n",
       "    }\n",
       "\n",
       "    .dataframe tbody tr th {\n",
       "        vertical-align: top;\n",
       "    }\n",
       "\n",
       "    .dataframe thead th {\n",
       "        text-align: right;\n",
       "    }\n",
       "</style>\n",
       "<table border=\"1\" class=\"dataframe\">\n",
       "  <thead>\n",
       "    <tr style=\"text-align: right;\">\n",
       "      <th></th>\n",
       "      <th>Tumor Mean</th>\n",
       "      <th>Tumor Median</th>\n",
       "      <th>Tumor Variance</th>\n",
       "      <th>Tumor StdDev</th>\n",
       "      <th>Tumor SEM</th>\n",
       "    </tr>\n",
       "    <tr>\n",
       "      <th>Drug Regimen</th>\n",
       "      <th></th>\n",
       "      <th></th>\n",
       "      <th></th>\n",
       "      <th></th>\n",
       "      <th></th>\n",
       "    </tr>\n",
       "  </thead>\n",
       "  <tbody>\n",
       "    <tr>\n",
       "      <th>Capomulin</th>\n",
       "      <td>40.68</td>\n",
       "      <td>41.56</td>\n",
       "      <td>24.95</td>\n",
       "      <td>4.99</td>\n",
       "      <td>0.33</td>\n",
       "    </tr>\n",
       "    <tr>\n",
       "      <th>Ceftamin</th>\n",
       "      <td>52.59</td>\n",
       "      <td>51.78</td>\n",
       "      <td>39.29</td>\n",
       "      <td>6.27</td>\n",
       "      <td>0.47</td>\n",
       "    </tr>\n",
       "    <tr>\n",
       "      <th>Infubinol</th>\n",
       "      <td>52.88</td>\n",
       "      <td>51.82</td>\n",
       "      <td>43.13</td>\n",
       "      <td>6.57</td>\n",
       "      <td>0.49</td>\n",
       "    </tr>\n",
       "    <tr>\n",
       "      <th>Ketapril</th>\n",
       "      <td>55.24</td>\n",
       "      <td>53.70</td>\n",
       "      <td>68.55</td>\n",
       "      <td>8.28</td>\n",
       "      <td>0.60</td>\n",
       "    </tr>\n",
       "    <tr>\n",
       "      <th>Naftisol</th>\n",
       "      <td>54.33</td>\n",
       "      <td>52.51</td>\n",
       "      <td>66.17</td>\n",
       "      <td>8.13</td>\n",
       "      <td>0.60</td>\n",
       "    </tr>\n",
       "  </tbody>\n",
       "</table>\n",
       "</div>"
      ],
      "text/plain": [
       "             Tumor Mean Tumor Median Tumor Variance Tumor StdDev Tumor SEM\n",
       "Drug Regimen                                                              \n",
       "Capomulin         40.68        41.56          24.95         4.99      0.33\n",
       "Ceftamin          52.59        51.78          39.29         6.27      0.47\n",
       "Infubinol         52.88        51.82          43.13         6.57      0.49\n",
       "Ketapril          55.24        53.70          68.55         8.28      0.60\n",
       "Naftisol          54.33        52.51          66.17         8.13      0.60"
      ]
     },
     "execution_count": 9,
     "metadata": {},
     "output_type": "execute_result"
    }
   ],
   "source": [
    "# Generate a summary statistics table of mean, median, variance, standard deviation, and SEM of the tumor volume for each regimen\n",
    "Tumor_Vol_Analysis = pd.DataFrame({\n",
    "    \"Tumor Mean\":tumor_mean,\n",
    "    \"Tumor Median\":tumor_median,\n",
    "    \"Tumor Variance\":tumor_var,\n",
    "    \"Tumor StdDev\":tumor_stdev,\n",
    "    \"Tumor SEM\":tumor_SEM})\n",
    "\n",
    "Tumor_Vol_Analysis[\"Tumor Mean\"]=Tumor_Vol_Analysis[\"Tumor Mean\"].map(\"{:,.2f}\".format)\n",
    "Tumor_Vol_Analysis[\"Tumor Median\"]=Tumor_Vol_Analysis[\"Tumor Median\"].map(\"{:,.2f}\".format)\n",
    "Tumor_Vol_Analysis[\"Tumor Variance\"]=Tumor_Vol_Analysis[\"Tumor Variance\"].map(\"{:,.2f}\".format)\n",
    "Tumor_Vol_Analysis[\"Tumor StdDev\"]=Tumor_Vol_Analysis[\"Tumor StdDev\"].map(\"{:,.2f}\".format)\n",
    "Tumor_Vol_Analysis[\"Tumor SEM\"]=Tumor_Vol_Analysis[\"Tumor SEM\"].map(\"{:,.2f}\".format)\n",
    "Tumor_Vol_Analysis.head()\n",
    "\n"
   ]
  },
  {
   "cell_type": "code",
   "execution_count": null,
   "metadata": {},
   "outputs": [],
   "source": [
    "#####WHAT IS THE AGGREGATION METHOD AND HOW DO I TRANSLATE FROM THE ABOVE#########\n",
    "# Using the aggregation method, produce the same summary statistics in a single line\n",
    "#df.groupby('A').agg('min')\n",
    "#.agg({'B': ['min', 'max'], 'C': 'sum'})\n",
    "Tumor_Vol_Analysis.groupby('Drug Regimen').agg({'Tumor Mean' : 'mean',\n",
    "                                               'Tumor Median': 'mean',\n",
    "                                               'Tumor Variance': 'mean',\n",
    "                                               'Tumor StdDev': 'mean',\n",
    "                                               'Tumor SEM': 'mean',})\n",
    "                                               \n"
   ]
  },
  {
   "cell_type": "markdown",
   "metadata": {},
   "source": [
    "## Bar and Pie Charts"
   ]
  },
  {
   "cell_type": "code",
   "execution_count": 18,
   "metadata": {},
   "outputs": [
    {
     "data": {
      "image/png": "[encoded data removed]",
      "text/plain": [
       "<Figure size 432x288 with 1 Axes>"
      ]
     },
     "metadata": {
      "needs_background": "light"
     },
     "output_type": "display_data"
    },
    {
     "data": {
      "text/plain": [
       "<Figure size 432x288 with 0 Axes>"
      ]
     },
     "metadata": {},
     "output_type": "display_data"
    }
   ],
   "source": [
    "# Generate a bar plot showing the total number of measurements taken on each drug regimen using pandas.\n",
    "measurements_df = unique_mouse_df.groupby([\"Drug Regimen\"])\n",
    "count_measurements = measurements_df['Weight (g)'].count()\n",
    "\n",
    "drug_and_measurement_df = pd.DataFrame({\n",
    "    \"Measurement Count\":count_measurements})\n",
    "\n",
    "drug_and_measurement_df.head()\n",
    "\n",
    "#Create bar chart\n",
    "drug_and_measurement_df.plot(kind=\"bar\")\n",
    "\n",
    "# Set a title for the chart\n",
    "plt.title(\"Number of Measurements Taken per Drug\")\n",
    "plt.xlabel(\"Drug Regimen\")\n",
    "plt.ylabel(\"Measurements Taken\")\n",
    "\n",
    "\n",
    "plt.show()\n",
    "plt.tight_layout()\n"
   ]
  },
  {
   "cell_type": "code",
   "execution_count": 24,
   "metadata": {},
   "outputs": [
    {
     "data": {
      "text/plain": [
       "([<matplotlib.axis.XTick at 0x28b9ff1cca0>,\n",
       "  <matplotlib.axis.XTick at 0x28b9ff1cc40>,\n",
       "  <matplotlib.axis.XTick at 0x28b9ff23cd0>,\n",
       "  <matplotlib.axis.XTick at 0x28b9fe981c0>,\n",
       "  <matplotlib.axis.XTick at 0x28b9fe98400>,\n",
       "  <matplotlib.axis.XTick at 0x28b9fe98ac0>,\n",
       "  <matplotlib.axis.XTick at 0x28b9fe70400>,\n",
       "  <matplotlib.axis.XTick at 0x28b9fe70b80>,\n",
       "  <matplotlib.axis.XTick at 0x28b9fe70190>,\n",
       "  <matplotlib.axis.XTick at 0x28b9fea1af0>],\n",
       " [Text(0, 0, \"('Capomulin', 10      Capomulin\\n11      Capomulin\\n12      Capomulin\\n13      Capomulin\\n14      Capomulin\\n          ...    \\n440     Capomulin\\n1452    Capomulin\\n1453    Capomulin\\n1454    Capomulin\\n1455    Capomulin\\nName: Drug Regimen, Length: 230, dtype: object)\"),\n",
       "  Text(0, 0, \"('Ceftamin', 484     Ceftamin\\n485     Ceftamin\\n486     Ceftamin\\n487     Ceftamin\\n488     Ceftamin\\n          ...   \\n1851    Ceftamin\\n1852    Ceftamin\\n1853    Ceftamin\\n1854    Ceftamin\\n1855    Ceftamin\\nName: Drug Regimen, Length: 178, dtype: object)\"),\n",
       "  Text(0, 0, \"('Infubinol', 454     Infubinol\\n455     Infubinol\\n456     Infubinol\\n457     Infubinol\\n458     Infubinol\\n          ...    \\n1868    Infubinol\\n1869    Infubinol\\n1870    Infubinol\\n1871    Infubinol\\n1872    Infubinol\\nName: Drug Regimen, Length: 178, dtype: object)\"),\n",
       "  Text(0, 0, \"('Ketapril', 511     Ketapril\\n512     Ketapril\\n513     Ketapril\\n690     Ketapril\\n691     Ketapril\\n          ...   \\n1819    Ketapril\\n1820    Ketapril\\n1821    Ketapril\\n1822    Ketapril\\n1823    Ketapril\\nName: Drug Regimen, Length: 188, dtype: object)\"),\n",
       "  Text(0, 0, \"('Naftisol', 558     Naftisol\\n559     Naftisol\\n560     Naftisol\\n561     Naftisol\\n562     Naftisol\\n          ...   \\n1888    Naftisol\\n1889    Naftisol\\n1890    Naftisol\\n1891    Naftisol\\n1892    Naftisol\\nName: Drug Regimen, Length: 186, dtype: object)\"),\n",
       "  Text(0, 0, \"('Placebo', 474     Placebo\\n475     Placebo\\n476     Placebo\\n477     Placebo\\n478     Placebo\\n         ...   \\n1829    Placebo\\n1830    Placebo\\n1831    Placebo\\n1832    Placebo\\n1833    Placebo\\nName: Drug Regimen, Length: 181, dtype: object)\"),\n",
       "  Text(0, 0, \"('Propriva', 541     Propriva\\n542     Propriva\\n543     Propriva\\n544     Propriva\\n545     Propriva\\n          ...   \\n1741    Propriva\\n1742    Propriva\\n1860    Propriva\\n1861    Propriva\\n1862    Propriva\\nName: Drug Regimen, Length: 156, dtype: object)\"),\n",
       "  Text(0, 0, \"('Ramicane', 0      Ramicane\\n1      Ramicane\\n2      Ramicane\\n3      Ramicane\\n4      Ramicane\\n         ...   \\n449    Ramicane\\n450    Ramicane\\n451    Ramicane\\n452    Ramicane\\n453    Ramicane\\nName: Drug Regimen, Length: 228, dtype: object)\"),\n",
       "  Text(0, 0, \"('Stelasyn', 494     Stelasyn\\n495     Stelasyn\\n496     Stelasyn\\n497     Stelasyn\\n498     Stelasyn\\n          ...   \\n1761    Stelasyn\\n1762    Stelasyn\\n1763    Stelasyn\\n1858    Stelasyn\\n1859    Stelasyn\\nName: Drug Regimen, Length: 181, dtype: object)\"),\n",
       "  Text(0, 0, \"('Zoniferol', 501     Zoniferol\\n502     Zoniferol\\n503     Zoniferol\\n504     Zoniferol\\n505     Zoniferol\\n          ...    \\n1719    Zoniferol\\n1774    Zoniferol\\n1775    Zoniferol\\n1776    Zoniferol\\n1777    Zoniferol\\nName: Drug Regimen, Length: 182, dtype: object)\")])"
      ]
     },
     "execution_count": 24,
     "metadata": {},
     "output_type": "execute_result"
    },
    {
     "data": {
      "image/png": "[encoded data removed]",
      "text/plain": [
       "<Figure size 432x288 with 1 Axes>"
      ]
     },
     "metadata": {
      "needs_background": "light"
     },
     "output_type": "display_data"
    }
   ],
   "source": [
    "################FIGURE OUT WHY TICKS LOCATION IS NOT WORKING#####################\n",
    "\n",
    "# Generate a bar plot showing the total number of measurements taken on each drug regimen using pyplot.\n",
    "measurement_plot_df = unique_mouse_df.groupby([\"Drug Regimen\"])\n",
    "x_axis = np.arange(len(measurement_plot_df))\n",
    "tick_locations = [value for value in x_axis]\n",
    "\n",
    "plt.bar(x_axis, drug_and_measurement_df[\"Measurement Count\"], color='r', alpha=0.5, align=\"center\")\n",
    "\n",
    "plt.xticks(tick_locations, measurement_plot_df[\"Drug Regimen\"], rotation=\"vertical\")\n",
    "\n",
    "plt.title(\"Number of Measurements Taken per Drug\")\n",
    "plt.xlabel(\"Drug Regimen\")\n",
    "plt.ylabel(\"Measurements Taken\")\n",
    "\n",
    "\n",
    "plt.show()\n",
    "plt.tight_layout()\n"
   ]
  },
  {
   "cell_type": "code",
   "execution_count": null,
   "metadata": {},
   "outputs": [],
   "source": [
    "# Generate a pie plot showing the distribution of female versus male mice using pandas\n",
    "\n"
   ]
  },
  {
   "cell_type": "code",
   "execution_count": null,
   "metadata": {},
   "outputs": [],
   "source": [
    "# Generate a pie plot showing the distribution of female versus male mice using pyplot\n",
    "\n"
   ]
  },
  {
   "cell_type": "markdown",
   "metadata": {},
   "source": [
    "## Quartiles, Outliers and Boxplots"
   ]
  },
  {
   "cell_type": "code",
   "execution_count": null,
   "metadata": {},
   "outputs": [],
   "source": [
    "# Calculate the final tumor volume of each mouse across four of the treatment regimens:  \n",
    "# Capomulin, Ramicane, Infubinol, and Ceftamin\n",
    "\n",
    "# Start by getting the last (greatest) timepoint for each mouse\n",
    "\n",
    "\n",
    "# Merge this group df with the original dataframe to get the tumor volume at the last timepoint\n"
   ]
  },
  {
   "cell_type": "code",
   "execution_count": null,
   "metadata": {},
   "outputs": [],
   "source": [
    "# Put treatments into a list for for loop (and later for plot labels)\n",
    "\n",
    "\n",
    "# Create empty list to fill with tumor vol data (for plotting)\n",
    "\n",
    "\n",
    "# Calculate the IQR and quantitatively determine if there are any potential outliers. \n",
    "\n",
    "    \n",
    "    # Locate the rows which contain mice on each drug and get the tumor volumes\n",
    "    \n",
    "    \n",
    "    # add subset \n",
    "    \n",
    "    \n",
    "    # Determine outliers using upper and lower bounds\n",
    "    "
   ]
  },
  {
   "cell_type": "code",
   "execution_count": null,
   "metadata": {},
   "outputs": [],
   "source": [
    "# Generate a box plot of the final tumor volume of each mouse across four regimens of interest\n"
   ]
  },
  {
   "cell_type": "markdown",
   "metadata": {},
   "source": [
    "## Line and Scatter Plots"
   ]
  },
  {
   "cell_type": "code",
   "execution_count": null,
   "metadata": {},
   "outputs": [],
   "source": [
    "# Generate a line plot of tumor volume vs. time point for a mouse treated with Capomulin\n"
   ]
  },
  {
   "cell_type": "code",
   "execution_count": null,
   "metadata": {},
   "outputs": [],
   "source": [
    "# Generate a scatter plot of average tumor volume vs. mouse weight for the Capomulin regimen\n"
   ]
  },
  {
   "cell_type": "markdown",
   "metadata": {},
   "source": [
    "## Correlation and Regression"
   ]
  },
  {
   "cell_type": "code",
   "execution_count": null,
   "metadata": {},
   "outputs": [],
   "source": [
    "# Calculate the correlation coefficient and linear regression model \n",
    "# for mouse weight and average tumor volume for the Capomulin regimen\n"
   ]
  },
  {
   "cell_type": "code",
   "execution_count": null,
   "metadata": {},
   "outputs": [],
   "source": []
  }
 ],
 "metadata": {
  "anaconda-cloud": {},
  "kernelspec": {
   "display_name": "PythonData",
   "language": "python",
   "name": "pythondata"
  },
  "language_info": {
   "codemirror_mode": {
    "name": "ipython",
    "version": 3
   },
   "file_extension": ".py",
   "mimetype": "text/x-python",
   "name": "python",
   "nbconvert_exporter": "python",
   "pygments_lexer": "ipython3",
   "version": "3.8.3"
  }
 },
 "nbformat": 4,
 "nbformat_minor": 4
}
